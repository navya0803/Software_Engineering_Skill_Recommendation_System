{
 "cells": [
  {
   "cell_type": "code",
   "execution_count": 104,
   "metadata": {},
   "outputs": [],
   "source": [
    "# Install the docx2txt package\n",
    "#pip install docx2txt\n",
    "# Import the library\n",
    "import docx2txt"
   ]
  },
  {
   "cell_type": "code",
   "execution_count": 105,
   "metadata": {},
   "outputs": [
    {
     "name": "stdout",
     "output_type": "stream",
     "text": [
      "GIULIA GONZALEZ\n",
      "\n",
      "Python Developer\n",
      "\n",
      "\n",
      "\n",
      "ggonzalez@email.com (123) 456-7890\n",
      "\n",
      "Detroit, MI LinkedIn Github\n",
      "\n",
      "\n",
      "\n",
      "\n",
      "\n",
      "EDUCATION\n",
      "\n",
      "M.S.\n",
      "\n",
      "Computer Science\n",
      "\n",
      "University of Chicago\n",
      "\n",
      "2014 - 2016\n",
      "\n",
      "Chicago, IL\n",
      "\n",
      "\n",
      "\n",
      "B.S.\n",
      "\n",
      "Computer Science\n",
      "\n",
      "University of Pittsburgh\n",
      "\n",
      "2010 - 2014\n",
      "\n",
      "Pittsburgh, PA\n",
      "\n",
      "\n",
      "\n",
      "\n",
      "\n",
      "SKILLS\n",
      "\n",
      "HTML/ CSS\n",
      "\n",
      "SQL (PostgreSQL, Oracle) JavaScript (Angular) Python (Django)\n",
      "\n",
      "REST APIs (GraphQL)\n",
      "\n",
      "AWS (Redshift, S3) Git\n",
      "\n",
      "\n",
      "WORK EXPERIENCE\n",
      "\n",
      "Python Developer\n",
      "\n",
      "DoorDash\n",
      "\n",
      "\t  September 2017 - current\t  Detroit, MI\n",
      "\n",
      "\tWorked on building new Angular components for the customer- facing web app, which improved the time on page for the\n",
      "\n",
      "average user by 2 minutes\n",
      "\n",
      "\tCollaborated with an agile team of 6, and helped prioritize and scope feature requests to ensure that the biggest impact\n",
      "\n",
      "features were worked on ﬁrst\n",
      "\n",
      "\tBuilt extensive test coverage for all new features, which reduced the number of customer complaints by 23%\n",
      "\n",
      "\tAcquired and ingested data to build and maintain data pipelines that led to discovering an opportunity for a new site feature,\n",
      "\n",
      "boosting revenue by 6%\n",
      "\n",
      "\tCommunicated with internal teams and stakeholders, working to determine solutions for the user experience\n",
      "\n",
      "\n",
      "\n",
      "Python Developer Intern\n",
      "\n",
      "Knewton\n",
      "\n",
      "\t  April 2016 - April 2017\t  Chicago, IL\n",
      "\n",
      "\tWorked alongside another developer to implement RESTful APIs in Django that enabled internal analytics team to increase\n",
      "\n",
      "reporting speed by 24%\n",
      "\n",
      "\tUsing Selenium, built out a unit testing infrastructure for a client web application that reduced the number of bugs reported by\n",
      "\n",
      "the client by 11% month over month\n",
      "\n",
      "\tProvided project updates to leadership team of 3, and oﬀered recommendations for design\n",
      "\n",
      "\tDiagnosed issues causing slow speeds in applications, and documented the process to making the database query system\n",
      "\n",
      "more robust\n",
      "\n",
      "\tParticipated in writing scalable code with a team of 4 interns and 1 developer for applications for a math course\n",
      "\n",
      "\n",
      "\n",
      "\n",
      "\n",
      "PROJECTS\n",
      "\n",
      "Cryptocurrency Price Tracker\n",
      "\n",
      "Creator\n",
      "\n",
      "\tIncorporated API calls to several applications, and stored data eﬃciently in PostgreSQL backend\n",
      "\n",
      "\tUtilized D3.js to allow users to dynamically visualize price movements over time periods of their choosing\n"
     ]
    }
   ],
   "source": [
    "# Store the resume in a variable\n",
    "resume = docx2txt.process(\"python-developer-resume-example.docx\")\n",
    "\n",
    "# Print the resume\n",
    "print(resume)"
   ]
  },
  {
   "cell_type": "code",
   "execution_count": 106,
   "metadata": {},
   "outputs": [
    {
     "name": "stdout",
     "output_type": "stream",
     "text": [
      "We are looking for an experienced Python developer to join our engineering team and help us create dynamic software applications for our clients. In this role, you will be responsible for writing and testing scalable code, developing back-end components, and integrating user-facing elements in collaboration with front-end developers.\n",
      "\n",
      "\n",
      "\n",
      "To be successful as a Python developer, you should possess in-depth knowledge of object-relational mapping, experience with server-side logic, and above-average knowledge of Python programming. Ultimately, a top-class Python developer is able to design highly responsive web-applications that perfectly meet the needs of the client.\n",
      "\n",
      "\n",
      "\n",
      "Python Developer Responsibilities:\n",
      "\n",
      "Coordinating with development teams to determine application requirements.\n",
      "\n",
      "Writing scalable code using Python programming language.\n",
      "\n",
      "Testing and debugging applications.\n",
      "\n",
      "Developing back-end components.\n",
      "\n",
      "Integrating user-facing elements using server-side logic.\n",
      "\n",
      "Assessing and prioritizing client feature requests.\n",
      "\n",
      "Integrating data storage solutions.\n",
      "\n",
      "Coordinating with front-end developers.\n",
      "\n",
      "Reprogramming existing databases to improve functionality.\n",
      "\n",
      "Developing digital tools to monitor online traffic.\n",
      "\n",
      "PBX Operator Requirements:\n",
      "\n",
      "Bachelor's degree in computer science, computer engineering, or related field.\n",
      "\n",
      "3-5 years of experience as a Python developer.\n",
      "\n",
      "Expert knowledge of Python and related frameworks including Django and Flask.\n",
      "\n",
      "A deep understanding and multi-process architecture and the threading limitations of Python.\n",
      "\n",
      "Familiarity with server-side templating languages including Jinja 2 and Mako.\n",
      "\n",
      "Ability to integrate multiple data sources into a single system.\n",
      "\n",
      "Familiarity with testing tools.\n",
      "\n",
      "Ability to collaborate on projects and work independently when required.\n"
     ]
    }
   ],
   "source": [
    "# Store the job description into a variable\n",
    "job_description = docx2txt.process(\"job Description.docx\")\n",
    "\n",
    "# Print the job description\n",
    "print(job_description)"
   ]
  },
  {
   "cell_type": "code",
   "execution_count": 107,
   "metadata": {},
   "outputs": [],
   "source": [
    "# A list of text\n",
    "text = [resume, job_description]"
   ]
  },
  {
   "cell_type": "code",
   "execution_count": 108,
   "metadata": {},
   "outputs": [],
   "source": [
    "from sklearn.feature_extraction.text import CountVectorizer\n",
    "cv = CountVectorizer()\n",
    "count_matrix = cv.fit_transform(text)"
   ]
  },
  {
   "cell_type": "code",
   "execution_count": 109,
   "metadata": {},
   "outputs": [
    {
     "name": "stdout",
     "output_type": "stream",
     "text": [
      "\n",
      "Similarity Scores:\n",
      "[[1.         0.59007782]\n",
      " [0.59007782 1.        ]]\n"
     ]
    }
   ],
   "source": [
    "from sklearn.metrics.pairwise import cosine_similarity\n",
    "\n",
    "#Print the similarity scores\n",
    "print(\"\\nSimilarity Scores:\")\n",
    "print(cosine_similarity(count_matrix))"
   ]
  },
  {
   "cell_type": "code",
   "execution_count": 110,
   "metadata": {},
   "outputs": [
    {
     "name": "stdout",
     "output_type": "stream",
     "text": [
      "Your resume matches about 59.01% of the job description.\n",
      "You need to work on your resume to improve\n"
     ]
    }
   ],
   "source": [
    "#get the match percentage\n",
    "matchPercentage = cosine_similarity(count_matrix)[0][1] * 100\n",
    "matchPercentage = round(matchPercentage, 2) # round to two decimal\n",
    "print(\"Your resume matches about \"+ str(matchPercentage)+ \"% of the job description.\")\n",
    "\n",
    "if matchPercentage>=70:                      \n",
    "    print(\"you have a nice resume\")\n",
    "else:\n",
    "    print(\"You need to work on your resume to improve\")\n",
    "     "
   ]
  },
  {
   "cell_type": "code",
   "execution_count": 111,
   "metadata": {},
   "outputs": [
    {
     "name": "stderr",
     "output_type": "stream",
     "text": [
      "c:\\Program Files\\Python36\\lib\\site-packages\\spacy\\util.py:275: UserWarning: [W031] Model 'en_training' (0.0.0) requires spaCy v2.1 and is incompatible with the current spaCy version (2.3.7). This may lead to unexpected results or runtime errors. To resolve this, download a newer compatible model or retrain your custom model with the current spaCy version. For more details and available updates, run: python -m spacy validate\n",
      "  warnings.warn(warn_msg)\n"
     ]
    }
   ],
   "source": [
    "from pyresparser import ResumeParser\n",
    "data = ResumeParser(\"python-developer-resume-example.docx\").get_extracted_data()\n"
   ]
  },
  {
   "cell_type": "code",
   "execution_count": 112,
   "metadata": {},
   "outputs": [
    {
     "data": {
      "text/plain": [
       "{'name': 'GIULIA GONZALEZ',\n",
       " 'email': 'ggonzalez@email.com',\n",
       " 'mobile_number': '456-7890',\n",
       " 'skills': ['Rest',\n",
       "  'Requests',\n",
       "  'Analytics',\n",
       "  'Math',\n",
       "  'Oracle',\n",
       "  'Css',\n",
       "  'Selenium',\n",
       "  'Testing',\n",
       "  'Api',\n",
       "  'Python',\n",
       "  'Database',\n",
       "  'Updates',\n",
       "  'Django',\n",
       "  'Sql',\n",
       "  'Writing',\n",
       "  'Github',\n",
       "  'Design',\n",
       "  'System',\n",
       "  'Postgresql',\n",
       "  'Agile',\n",
       "  'Apis',\n",
       "  'Reporting',\n",
       "  'Process',\n",
       "  'Aws',\n",
       "  'Javascript'],\n",
       " 'college_name': None,\n",
       " 'degree': None,\n",
       " 'designation': ['Python Developer ggonzalez@email.com'],\n",
       " 'experience': [],\n",
       " 'company_names': None,\n",
       " 'no_of_pages': None,\n",
       " 'total_experience': 0.0}"
      ]
     },
     "execution_count": 112,
     "metadata": {},
     "output_type": "execute_result"
    }
   ],
   "source": [
    "data"
   ]
  },
  {
   "cell_type": "code",
   "execution_count": 113,
   "metadata": {},
   "outputs": [],
   "source": [
    "list = data['skills']"
   ]
  },
  {
   "cell_type": "code",
   "execution_count": 114,
   "metadata": {},
   "outputs": [
    {
     "data": {
      "text/plain": [
       "['Rest',\n",
       " 'Requests',\n",
       " 'Analytics',\n",
       " 'Math',\n",
       " 'Oracle',\n",
       " 'Css',\n",
       " 'Selenium',\n",
       " 'Testing',\n",
       " 'Api',\n",
       " 'Python',\n",
       " 'Database',\n",
       " 'Updates',\n",
       " 'Django',\n",
       " 'Sql',\n",
       " 'Writing',\n",
       " 'Github',\n",
       " 'Design',\n",
       " 'System',\n",
       " 'Postgresql',\n",
       " 'Agile',\n",
       " 'Apis',\n",
       " 'Reporting',\n",
       " 'Process',\n",
       " 'Aws',\n",
       " 'Javascript']"
      ]
     },
     "execution_count": 114,
     "metadata": {},
     "output_type": "execute_result"
    }
   ],
   "source": [
    "list"
   ]
  },
  {
   "cell_type": "code",
   "execution_count": 115,
   "metadata": {},
   "outputs": [],
   "source": [
    "data1 = ResumeParser(\"job Description.docx\").get_extracted_data()"
   ]
  },
  {
   "cell_type": "code",
   "execution_count": 116,
   "metadata": {},
   "outputs": [
    {
     "data": {
      "text/plain": [
       "{'name': 'We are',\n",
       " 'email': None,\n",
       " 'mobile_number': None,\n",
       " 'skills': ['Writing',\n",
       "  'Requests',\n",
       "  'Architecture',\n",
       "  'Design',\n",
       "  'Debugging',\n",
       "  'System',\n",
       "  'Flask',\n",
       "  'Engineering',\n",
       "  'Computer science',\n",
       "  'Process',\n",
       "  'Mako',\n",
       "  'Programming',\n",
       "  'Testing',\n",
       "  'Python',\n",
       "  'Threading',\n",
       "  'Django'],\n",
       " 'college_name': None,\n",
       " 'degree': None,\n",
       " 'designation': ['Python developer'],\n",
       " 'experience': [],\n",
       " 'company_names': None,\n",
       " 'no_of_pages': None,\n",
       " 'total_experience': 0.0}"
      ]
     },
     "execution_count": 116,
     "metadata": {},
     "output_type": "execute_result"
    }
   ],
   "source": [
    "data1"
   ]
  },
  {
   "cell_type": "code",
   "execution_count": 117,
   "metadata": {},
   "outputs": [],
   "source": [
    "list1 = data1['skills']"
   ]
  },
  {
   "cell_type": "code",
   "execution_count": 118,
   "metadata": {},
   "outputs": [
    {
     "data": {
      "text/plain": [
       "['Writing',\n",
       " 'Requests',\n",
       " 'Architecture',\n",
       " 'Design',\n",
       " 'Debugging',\n",
       " 'System',\n",
       " 'Flask',\n",
       " 'Engineering',\n",
       " 'Computer science',\n",
       " 'Process',\n",
       " 'Mako',\n",
       " 'Programming',\n",
       " 'Testing',\n",
       " 'Python',\n",
       " 'Threading',\n",
       " 'Django']"
      ]
     },
     "execution_count": 118,
     "metadata": {},
     "output_type": "execute_result"
    }
   ],
   "source": [
    "list1"
   ]
  },
  {
   "cell_type": "code",
   "execution_count": 119,
   "metadata": {},
   "outputs": [],
   "source": [
    "# returnMatches[list1,list]"
   ]
  },
  {
   "cell_type": "code",
   "execution_count": 120,
   "metadata": {},
   "outputs": [],
   "source": [
    "# list1 = data1['name']"
   ]
  },
  {
   "cell_type": "code",
   "execution_count": 121,
   "metadata": {},
   "outputs": [
    {
     "name": "stdout",
     "output_type": "stream",
     "text": [
      "['Writing', 'Requests', 'Design', 'System', 'Process', 'Testing', 'Python', 'Django']\n"
     ]
    }
   ],
   "source": [
    "matches=[]\n",
    "for item_a in list1:\n",
    "    for item_b in list:\n",
    "        if item_a == item_b:\n",
    "            matches.append(item_a)\n",
    "print( matches)"
   ]
  },
  {
   "cell_type": "code",
   "execution_count": 122,
   "metadata": {},
   "outputs": [
    {
     "name": "stdout",
     "output_type": "stream",
     "text": [
      "the matching skills are as Writing,Requests,Design,System,Process,Testing,Python,Django\n"
     ]
    }
   ],
   "source": [
    "print(\"the matching skills are as \"+ \",\".join(matches))"
   ]
  },
  {
   "cell_type": "code",
   "execution_count": 125,
   "metadata": {},
   "outputs": [
    {
     "name": "stdout",
     "output_type": "stream",
     "text": [
      "the unmatched skills are as Architecture,Debugging,Flask,Engineering,Computer science,Mako,Programming,Threading\n"
     ]
    }
   ],
   "source": [
    "# get the unmatched skills from the list and list1 \n",
    "unmatched_skills = [item for item in list1 if item not in list]\n",
    "print(\"the unmatched skills are as \"+ \",\".join(unmatched_skills))"
   ]
  },
  {
   "cell_type": "code",
   "execution_count": 123,
   "metadata": {},
   "outputs": [],
   "source": [
    "# getting name , email \n",
    "df = ResumeParser(\"python-developer-resume-example.docx\").get_extracted_data()\n",
    "df\n",
    "# extract email and name\n",
    "email = df['email']\n",
    "name = df['name']"
   ]
  },
  {
   "cell_type": "code",
   "execution_count": 124,
   "metadata": {},
   "outputs": [
    {
     "data": {
      "text/plain": [
       "('ggonzalez@email.com', 'GIULIA GONZALEZ')"
      ]
     },
     "execution_count": 124,
     "metadata": {},
     "output_type": "execute_result"
    }
   ],
   "source": [
    "email, name"
   ]
  },
  {
   "cell_type": "code",
   "execution_count": null,
   "metadata": {},
   "outputs": [],
   "source": []
  },
  {
   "cell_type": "code",
   "execution_count": null,
   "metadata": {},
   "outputs": [],
   "source": []
  }
 ],
 "metadata": {
  "interpreter": {
   "hash": "f7291e4b392a32fbfa525b87d1bbd0a3d888adf3d0deca0c205c61b9e7284b82"
  },
  "kernelspec": {
   "display_name": "Python 3.6.8 64-bit",
   "language": "python",
   "name": "python3"
  },
  "language_info": {
   "codemirror_mode": {
    "name": "ipython",
    "version": 3
   },
   "file_extension": ".py",
   "mimetype": "text/x-python",
   "name": "python",
   "nbconvert_exporter": "python",
   "pygments_lexer": "ipython3",
   "version": "3.6.8"
  },
  "orig_nbformat": 4
 },
 "nbformat": 4,
 "nbformat_minor": 2
}
